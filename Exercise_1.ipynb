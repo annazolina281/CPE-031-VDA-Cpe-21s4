{
  "nbformat": 4,
  "nbformat_minor": 0,
  "metadata": {
    "colab": {
      "provenance": [],
      "authorship_tag": "ABX9TyNpWfXfHsjarDXyjH8W6/ag",
      "include_colab_link": true
    },
    "kernelspec": {
      "name": "python3",
      "display_name": "Python 3"
    },
    "language_info": {
      "name": "python"
    }
  },
  "cells": [
    {
      "cell_type": "markdown",
      "metadata": {
        "id": "view-in-github",
        "colab_type": "text"
      },
      "source": [
        "<a href=\"https://colab.research.google.com/github/annazolina281/CPE-031-VDA-Cpe-21s4/blob/main/Exercise_1.ipynb\" target=\"_parent\"><img src=\"https://colab.research.google.com/assets/colab-badge.svg\" alt=\"Open In Colab\"/></a>"
      ]
    },
    {
      "cell_type": "code",
      "source": [
        "#Addition\n",
        "a = 5 + 3\n",
        "\n",
        "#Subtraction\n",
        "a = 5 - 3\n",
        "\n",
        "\n",
        "#Multiplication\n",
        "a = 5 * 3\n",
        "\n",
        "\n",
        "#Exponent\n",
        "a = 5**3\n",
        "\n",
        "\n",
        "#Division\n",
        "a = 5 / 3\n",
        "\n",
        "\n",
        "#Modulus\n",
        "a = 5 % 3\n",
        "\n",
        "\n",
        "#Floor Division\n",
        "a = 5 // 3\n",
        "\n",
        "#Increment/Decrement\n",
        "a = 5\n",
        "a += 1\n",
        "\n",
        "#Decrement\n",
        "a = 5\n",
        "a -= 1\n",
        "\n",
        "#String Concatenation\n",
        "a = \"Hello \" + \"World\"\n",
        "\n",
        "\n",
        "#Complex Expressions\n",
        "a = 3 + 5 - 6 * 2 / 4\n"
      ],
      "metadata": {
        "id": "BgmV_qbS-70G"
      },
      "execution_count": 16,
      "outputs": []
    },
    {
      "cell_type": "code",
      "source": [
        "#BOOLEAN CONDITION\n",
        "\n",
        "x = True\n",
        "\n",
        "if x:\n",
        "    print(\"var x is True\")\n",
        "else:\n",
        "    print(\"var x is False\")\n",
        "\n",
        "#STRING CONDITIONS\n",
        "x = \"Hello World!\"\n",
        "\n",
        "if x == 'Hello World':\n",
        "    print(\"x is Hello World\")\n",
        "else:\n",
        "    print(\"x is not Hello World\")\n",
        "\n",
        "#NUMERICAL CONDITIONS\n",
        "x = 10\n",
        "\n",
        "if x == '10':\n",
        "    print(\"var x is string\")\n",
        "elif x == 10:\n",
        "    print(\"var x is an integer\")\n",
        "else:\n",
        "    print(\"var x is none of the above\")"
      ],
      "metadata": {
        "colab": {
          "base_uri": "https://localhost:8080/"
        },
        "collapsed": true,
        "id": "8t10rJcs7cU3",
        "outputId": "65f42e4b-bbb1-46a7-8ca6-8ce2bd1c15c5"
      },
      "execution_count": 9,
      "outputs": [
        {
          "output_type": "stream",
          "name": "stdout",
          "text": [
            "var x is True\n",
            "x is not Hello World\n",
            "var x is an integer\n"
          ]
        }
      ]
    },
    {
      "cell_type": "code",
      "source": [
        "#For Loops\n",
        "for var in range (0, 5, 2):\n",
        "    print (var)\n",
        "\n",
        "#While Loops\n",
        "var = 0\n",
        "while var < 5:\n",
        "    print (var)\n",
        "    var += 2\n",
        "\n",
        "#Nested Loops\n",
        "x = 0\n",
        "while x < 5:\n",
        "    for y in range (0, x):\n",
        "        print (y, end='')\n",
        "    x+=1\n",
        "    print()"
      ],
      "metadata": {
        "colab": {
          "base_uri": "https://localhost:8080/"
        },
        "collapsed": true,
        "id": "H-3YTPmb-Ipn",
        "outputId": "14e59adc-0fc7-4845-f52d-018cb775eaf5"
      },
      "execution_count": 11,
      "outputs": [
        {
          "output_type": "stream",
          "name": "stdout",
          "text": [
            "0\n",
            "2\n",
            "4\n",
            "0\n",
            "2\n",
            "4\n",
            "\n",
            "0\n",
            "01\n",
            "012\n",
            "0123\n"
          ]
        }
      ]
    },
    {
      "cell_type": "code",
      "source": [
        "pi = 3.14159\n",
        "varList = [1, 2, 'A', 'B', 'Hello!', pi]\n",
        "print(varList[0])\n",
        "\n",
        "\n",
        "print(varList[4])\n",
        "\n",
        "\n",
        "varList.append('World!')\n",
        "print(varList[6])\n",
        "\n",
        "len(varList)\n",
        "\n",
        "\n",
        "print(varList[5])\n",
        "\n",
        "varList.remove(pi)\n",
        "print(varList[5])"
      ],
      "metadata": {
        "colab": {
          "base_uri": "https://localhost:8080/"
        },
        "collapsed": true,
        "id": "Zrwt95G1CZC2",
        "outputId": "8d97bf31-abda-46c2-ed5c-9cd7feafda9d"
      },
      "execution_count": 31,
      "outputs": [
        {
          "output_type": "stream",
          "name": "stdout",
          "text": [
            "1\n",
            "Hello!\n",
            "World!\n",
            "3.14159\n",
            "World!\n"
          ]
        }
      ]
    },
    {
      "cell_type": "code",
      "source": [
        "var = \"Hello World!\"\n",
        "varDict = {'first': 123, 2: 'abc', '3': var, 4 : ['lista', 'listb']}\n",
        "print(varDict['first'])\n",
        "\n",
        "print(varDict[2])\n",
        "\n",
        "print(varDict['3'])\n",
        "\n",
        "print(varDict[4])\n",
        "\n",
        "print(varDict[4][1])\n",
        "\n",
        "len(varDict)"
      ],
      "metadata": {
        "colab": {
          "base_uri": "https://localhost:8080/"
        },
        "collapsed": true,
        "id": "khsRoqMSBIGv",
        "outputId": "01d6bd64-2caf-4db9-f433-b7aca8bed16b"
      },
      "execution_count": 26,
      "outputs": [
        {
          "output_type": "stream",
          "name": "stdout",
          "text": [
            "123\n",
            "abc\n",
            "Hello World!\n",
            "['lista', 'listb']\n",
            "listb\n"
          ]
        },
        {
          "output_type": "execute_result",
          "data": {
            "text/plain": [
              "4"
            ]
          },
          "metadata": {},
          "execution_count": 26
        }
      ]
    },
    {
      "cell_type": "code",
      "source": [
        "\n",
        "def gen_num_up_to(n):\n",
        "    number = 0\n",
        "    while number < n:\n",
        "        yield number\n",
        "        number += 1\n",
        "\n",
        "gen_num_up_to(5)\n",
        "\n",
        "\n",
        "varList = gen_num_up_to(5)\n",
        "print([var for var in varList])\n",
        "\n",
        "def gen_num_up_to(n):\n",
        "  num = 0\n",
        "  while num < n:\n",
        "    yield num\n",
        "    num += 2\n",
        "\n",
        "varList = gen_num_up_to(5)\n",
        "print([var for var in varList])\n",
        "\n",
        "varList = range(0,5,2)\n",
        "print([var for var in varList])\n"
      ],
      "metadata": {
        "colab": {
          "base_uri": "https://localhost:8080/"
        },
        "id": "RLUr_3UFD1Ke",
        "outputId": "f6d7008e-67dc-46fa-9e7a-1dde1fecd98b"
      },
      "execution_count": 42,
      "outputs": [
        {
          "output_type": "stream",
          "name": "stdout",
          "text": [
            "[0, 1, 2, 3, 4]\n",
            "[0, 2, 4]\n",
            "[0, 2, 4]\n"
          ]
        }
      ]
    },
    {
      "cell_type": "code",
      "source": [
        "varList = [1, 2, 3, 4, 5, 6, 7, 8, 9, 10]\n",
        "print(varList[:5])\n",
        "\n",
        "print(varList[5:])\n",
        "\n",
        "print(varList[:-2])\n",
        "\n",
        "print(varList[-2:])\n",
        "\n",
        "print(varList[2:-2])\n",
        "\n",
        "print(varList[2:8:2])\n",
        "\n"
      ],
      "metadata": {
        "colab": {
          "base_uri": "https://localhost:8080/"
        },
        "id": "jqy6yysRGlTW",
        "outputId": "3ae30894-cbc0-428c-9f59-ae58668af63a"
      },
      "execution_count": 51,
      "outputs": [
        {
          "output_type": "stream",
          "name": "stdout",
          "text": [
            "[1, 2, 3, 4, 5]\n",
            "[6, 7, 8, 9, 10]\n",
            "[1, 2, 3, 4, 5, 6, 7, 8]\n",
            "[9, 10]\n",
            "[3, 4, 5, 6, 7, 8]\n",
            "[3, 5, 7]\n"
          ]
        }
      ]
    },
    {
      "cell_type": "code",
      "source": [
        "\n",
        "def remainder(n, m):\n",
        "  while True:\n",
        "    if n - m < 0:\n",
        "      return n\n",
        "    else:\n",
        "      n = n - m\n",
        "\n",
        "remainder(10, 4)"
      ],
      "metadata": {
        "colab": {
          "base_uri": "https://localhost:8080/"
        },
        "id": "CvYT0F2eIgil",
        "outputId": "8ed6be68-2558-4981-9535-b03e9a903398"
      },
      "execution_count": 53,
      "outputs": [
        {
          "output_type": "execute_result",
          "data": {
            "text/plain": [
              "2"
            ]
          },
          "metadata": {},
          "execution_count": 53
        }
      ]
    },
    {
      "cell_type": "code",
      "execution_count": null,
      "metadata": {
        "id": "1GXuAf-P1qS0"
      },
      "outputs": [],
      "source": [
        "from os import listdir\n",
        "from typing import List\n",
        "1. Variables and Data Types\n",
        "\n",
        "Numbers\n",
        "varNum = 123\n",
        "pi = 3.14159\n",
        "\n",
        "Strings\n",
        "varString = \"Hello World\"\n",
        "varText = 'This is a string'\n",
        "\n",
        "Lists\n",
        "varLists = [\"abc, 123\"]\n",
        "\n",
        "tuples\n",
        "varTuple = ('abc', 123, \"HELLO\")\n",
        "\n",
        "dictionaries\n",
        "var = 3\n",
        "varDict = {'first': 1, '2': '2nd', 3:var}\n",
        "\n",
        "varDict ={}\n",
        "varDict['first']=1\n",
        "varDict['2'] = '2nd'\n",
        "varDict[3] = var\n",
        "\n",
        "\n",
        "\n",
        "2. Arithmetic\n",
        "\n",
        "Addition\n",
        "a = 5 + 3\n",
        "> 8\n",
        "\n",
        "Subtraction\n",
        "a = 5 - 3\n",
        "> 2\n",
        "\n",
        "Multiplication\n",
        "a = 5 * 3\n",
        "> 15\n",
        "\n",
        "Exponent\n",
        "a = 5**3\n",
        "> 125\n",
        "\n",
        "Division\n",
        "a = 5 / 3\n",
        "> 1.66666666666666667\n",
        "\n",
        "Modulus\n",
        "a = 5 % 3\n",
        "> 2\n",
        "\n",
        "Floor Division\n",
        "a = 5 // 3\n",
        "> 1\n",
        "Increment/Decrement\n",
        "a = 5\n",
        "a += 1\n",
        "> 6\n",
        "\n",
        "Decrement\n",
        "a = 5\n",
        "a -= 1\n",
        "> 4\n",
        "\n",
        "String Concatenation\n",
        "a = \"Hello \" + \"World\"\n",
        "> Hello World!\n",
        "\n",
        "Complex Expressions\n",
        "a = 3 + 5 - 6 * 2 / 4\n",
        "> 5.0\n",
        "\n",
        "3. Control Statements and Data Structures\n",
        "\n",
        "Boolean Conditions\n",
        "\n",
        "x = True\n",
        "\n",
        "if x:\n",
        "    print(\"var x is True\")\n",
        "else:\n",
        "    print(\"var x is False\")\n",
        "\n",
        "String Conditions\n",
        "\n",
        "x = \"Hello World!\"\n",
        "\n",
        "if x == 'Hello World':\n",
        "    print(\"x is Hello World\")\n",
        "else:\n",
        "    print(\"x is not Hello World\")\n",
        "\n",
        "Numerical Conditions\n",
        "\n",
        "x = 10\n",
        "\n",
        "if x == '10':\n",
        "    print(\"var x is string\")\n",
        "elif x == 10:\n",
        "    print(\"var x is an integer\")\n",
        "else:\n",
        "    print(\"var x is none of the above\")\n",
        "\n",
        "\n",
        "4. Loops\n",
        "\n",
        "For Loops\n",
        "for var in range (0, 5, 2):\n",
        "    print (var)\n",
        "\n",
        "While Loops\n",
        "var = 0\n",
        "while var < 5:\n",
        "    print (var)\n",
        "    var += 2\n",
        "\n",
        "Nested Loops\n",
        "x = 0\n",
        "while x < 5:\n",
        "    for y in range (0, x):\n",
        "        print (y, end='')\n",
        "    x+=1\n",
        "    print()\n",
        "\n",
        "*Note: The loop declaration ends with a colon (:) while its contents inside are indented.\n",
        "\n",
        "\n",
        "5. lists\n",
        "\n",
        "pi = 3.14159\n",
        "varList = [1, 2, 'A', 'B', 'Hello!', pi]\n",
        "print(varList[0])\n",
        "\n",
        "\n",
        "print(varList[4])\n",
        "\n",
        "\n",
        "varlist.append('World!')\n",
        "print(varList[6])\n",
        "\n",
        "\n",
        "len(varList)\n",
        "\n",
        "\n",
        "print(varList[5])\n",
        "\n",
        "varList.remove(pi)\n",
        "print(varList[5])\n",
        "\n",
        "\n",
        "6. dictionaries\n",
        "\n",
        "var = \"Hello World!\"\n",
        "varDict = {'first': 123, 2: 'abc', '3': var, 4 : ['lista', 'listb']}\n",
        "print(varDict['first'])\n",
        "\n",
        "print(varDict[2])\n",
        "\n",
        "print(varDict['3'])\n",
        "\n",
        "print(varDict[4])\n",
        "\n",
        "print(varDict[4][1])\n",
        "\n",
        "len(varDict)\n",
        "\n",
        "8. Generators and Comprehension\n",
        "Generators can be used to build list in the memory as objects\n",
        "\n",
        "def gen_num_up_to(n):\n",
        "    number = 0\n",
        "    while number < n:\n",
        "        yield number\n",
        "        number += 1\n",
        "\n",
        "gen_num_up_to(5)\n",
        "\n",
        "*Note This creates an object\n",
        "\n",
        "varList = gen_num_up_to(5)\n",
        "print(var for var in varList)\n",
        "\n",
        "def gen_num_up_to(n):\n",
        "  num = 0\n",
        "  while num < n:\n",
        "    yield num\n",
        "    num += 2\n",
        "\n",
        "varList = range(0,5,2)\n",
        "print(var for var in varList)\n",
        "\n",
        "*Note: Python's built in range fuction range ([start], stop, [step])\n",
        "\n",
        "9. Slicing\n",
        "\n",
        "varList = [1, 2, 3, 4, 5, 6, 7, 8, 9, 10]\n",
        "print(varList[:5])\n",
        "\n",
        "print(varList[5:])\n",
        "\n",
        "print(varList[:-2])\n",
        "\n",
        "print(varList[-2:])\n",
        "\n",
        "print(varList[2:-2])\n",
        "\n",
        "print(varList[2:8:2])\n",
        "\n",
        "Note:\n",
        "list (start:)\n",
        "list (:end)\n",
        "list (start:end)\n",
        "list (start:end:stop)\n",
        "\n",
        "\n",
        "10. Functions\n",
        "\n",
        "def function name:\n",
        "  commands\n",
        "\n",
        "def remainder(n, m):\n",
        "  while True:\n",
        "    if n - m < 0:\n",
        "      return n\n",
        "    else:\n",
        "      n = n - m\n",
        "\n",
        "remainder(10, 4)\n",
        "\n",
        "*Note: Functions are defined with the keyword def before the function name. Similar to loops, the function definition ends with a colon (:) while its contents inside are indented."
      ]
    }
  ]
}