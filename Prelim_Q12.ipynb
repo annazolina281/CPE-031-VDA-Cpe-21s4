{
  "nbformat": 4,
  "nbformat_minor": 0,
  "metadata": {
    "colab": {
      "provenance": [],
      "authorship_tag": "ABX9TyPeif+GvfETysRQkcSXiUSy",
      "include_colab_link": true
    },
    "kernelspec": {
      "name": "python3",
      "display_name": "Python 3"
    },
    "language_info": {
      "name": "python"
    }
  },
  "cells": [
    {
      "cell_type": "markdown",
      "metadata": {
        "id": "view-in-github",
        "colab_type": "text"
      },
      "source": [
        "<a href=\"https://colab.research.google.com/github/annazolina281/CPE-031-VDA-Cpe-21s4/blob/main/Prelim_Q12.ipynb\" target=\"_parent\"><img src=\"https://colab.research.google.com/assets/colab-badge.svg\" alt=\"Open In Colab\"/></a>"
      ]
    },
    {
      "cell_type": "code",
      "execution_count": null,
      "metadata": {
        "colab": {
          "base_uri": "https://localhost:8080/"
        },
        "id": "DdgcgHcnRgw_",
        "outputId": "879f4fd8-087f-431f-dbd3-a954bc1d3453"
      },
      "outputs": [
        {
          "output_type": "stream",
          "name": "stdout",
          "text": [
            "Original DataFrame\n",
            "  col1 col2 col3\n",
            "0    1    4    7\n",
            "1    4    5    8\n",
            "2    3    6    9\n",
            "3    4    7    0\n",
            "4    5    8    1\n",
            "New DataFrame\n",
            "  col1 col2 col3\n",
            "0    1    4    7\n",
            "1               \n",
            "2    3    6    9\n",
            "3    4    7    0\n",
            "4    5    8    1\n"
          ]
        }
      ],
      "source": [
        "import pandas as pd\n",
        "print(\"Original DataFrame\")\n",
        "Data_Frame = [['1', '4', '7'], [\"4\", \"5\", \"8\"], [\"3\", \"6\", \"9\"], [\"4\", \"7\", \"0\"], [\"5\", \"8\", \"1\"]]\n",
        "df = pd.DataFrame(Data_Frame, columns = (\"col1\", \"col2\", \"col3\"))\n",
        "print(df)\n",
        "print(\"New DataFrame\")\n",
        "Data_Frame1 = [['1', '4', '7'], [\"\", \"\", \"\"], [\"3\", \"6\", \"9\"], [\"4\", \"7\", \"0\"], [\"5\", \"8\", \"1\"]]\n",
        "df1 = pd.DataFrame(Data_Frame1, columns = (\"col1\", \"col2\", \"col3\"))\n",
        "print(df1)\n",
        "\n"
      ]
    }
  ]
}