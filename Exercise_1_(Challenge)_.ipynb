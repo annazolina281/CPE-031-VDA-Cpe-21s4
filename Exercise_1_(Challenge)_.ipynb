{
  "nbformat": 4,
  "nbformat_minor": 0,
  "metadata": {
    "colab": {
      "provenance": [],
      "authorship_tag": "ABX9TyMJAPZCNLyj0BGoHONZa5pT",
      "include_colab_link": true
    },
    "kernelspec": {
      "name": "python3",
      "display_name": "Python 3"
    },
    "language_info": {
      "name": "python"
    }
  },
  "cells": [
    {
      "cell_type": "markdown",
      "metadata": {
        "id": "view-in-github",
        "colab_type": "text"
      },
      "source": [
        "<a href=\"https://colab.research.google.com/github/annazolina281/CPE-031-VDA-Cpe-21s4/blob/main/Exercise_1_(Challenge)_.ipynb\" target=\"_parent\"><img src=\"https://colab.research.google.com/assets/colab-badge.svg\" alt=\"Open In Colab\"/></a>"
      ]
    },
    {
      "cell_type": "code",
      "execution_count": null,
      "metadata": {
        "id": "G_0b9k6rILyL"
      },
      "outputs": [],
      "source": []
    },
    {
      "cell_type": "code",
      "source": [
        "#challenge 2! (Python Programming)\n",
        "\n",
        "import numpy as np\n",
        "np.random.randint(0, 5)\n"
      ],
      "metadata": {
        "colab": {
          "base_uri": "https://localhost:8080/"
        },
        "id": "F8j9UH9i9ytx",
        "outputId": "b4e68bed-7a86-4e4b-f60f-a26340323130"
      },
      "execution_count": null,
      "outputs": [
        {
          "output_type": "execute_result",
          "data": {
            "text/plain": [
              "4"
            ]
          },
          "metadata": {},
          "execution_count": 34
        }
      ]
    },
    {
      "cell_type": "code",
      "source": [
        "#challenge 2! (Python Programming)\n",
        "\n",
        "import numpy as np\n",
        "\n",
        "def coin_flip(n):\n",
        "    # This code is used to represent tails as 0 and heads as 1\n",
        "    return (np.random.randint(0, 5) % 2 for _ in range(n))\n",
        "\n",
        "# Print the results using the coin_flip function\n",
        "print([var for var in coin_flip(8)])"
      ],
      "metadata": {
        "colab": {
          "base_uri": "https://localhost:8080/"
        },
        "id": "jPA-tCKR-Vau",
        "outputId": "899d1189-b537-445e-b5f0-170f2a095e8f"
      },
      "execution_count": null,
      "outputs": [
        {
          "output_type": "stream",
          "name": "stdout",
          "text": [
            "[0, 0, 1, 1, 1, 0, 1, 0]\n"
          ]
        }
      ]
    },
    {
      "cell_type": "code",
      "source": [
        "#(user input practice)\n",
        "\n",
        "import numpy as np\n",
        "\n",
        "#this code is use for asking an input from the user\n",
        "flip = int(input(\"How many tosses would you like to do? :\"))\n",
        "\n",
        "#this code is for the function of the coin and displaying its results\n",
        "for result in coin_flip(flip):\n",
        "    if result == 0:\n",
        "        print(\"Heads\")\n",
        "    else:\n",
        "        print(\"Tails\")"
      ],
      "metadata": {
        "id": "afFffChu-w6X"
      },
      "execution_count": null,
      "outputs": []
    }
  ]
}